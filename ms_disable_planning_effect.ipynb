{
 "cells": [
  {
   "cell_type": "markdown",
   "metadata": {},
   "source": [
    "# Impact of MS filter disable on ACA planning constraint\n",
    "\n",
    "This notebook contains a simple analysis to estimate the impact of disabling the OBC multiple stars suspected filter (MS filter) on the ACA planning constraint.  This is done by the following process:\n",
    "\n",
    "- Determine the limiting magnitude of the ACA around 2016:001 assuming acquisition statistics with the MS filter ENABLED.  The limiting magnitude is defined as the ACA magnitude corresponding to a 50% acquisition probability, and is a function of both temperature and time (because of ongoing radiation damage).\n",
    "- Estimate the expected temperature increase profile for the ACA.  Over the time range from around 2012:180 to 2014:180 the ACA CCD temperature was not significantly constrained by an explicit ACA constraint.  The derived temperature increase of about 1.5 degC/year is expected to be sustainable over the next 6 years.\n",
    "- Compute the ACA limiting magnitude at yearly intervals for the next 6 years, assuming the MS filter is DISABLED and an increase of 1.5 degC/year from the median value for a +/- 60 day span centered at 2016:001.\n",
    "- Interpolate this curve to determine the date at which the curve matches the limiting magnitude with MS filter disabled.\n",
    "- This date is around 2019:292.\n",
    "\n",
    "\n",
    "**Conclusion: the ACA planning constraint for late-2019 will be similar to the constraint at 2016:001.**"
   ]
  },
  {
   "cell_type": "code",
   "execution_count": 1,
   "metadata": {
    "collapsed": true
   },
   "outputs": [],
   "source": [
    "import sys\n",
    "sys.path.insert(0, '/home/aldcroft/git/chandra_aca')"
   ]
  },
  {
   "cell_type": "code",
   "execution_count": 2,
   "metadata": {
    "collapsed": false
   },
   "outputs": [],
   "source": [
    "from chandra_aca.star_probs import set_fit_pars, mag_for_p_acq\n",
    "from Ska.engarchive import fetch_sci as fetch\n",
    "from Chandra.Time import DateTime\n",
    "from Ska.Matplotlib import plot_cxctime\n",
    "import matplotlib.pyplot as plt\n",
    "import Ska.Numpy\n",
    "%matplotlib inline"
   ]
  },
  {
   "cell_type": "code",
   "execution_count": 3,
   "metadata": {
    "collapsed": true
   },
   "outputs": [],
   "source": [
    "NOW = DateTime('2016:001')"
   ]
  },
  {
   "cell_type": "code",
   "execution_count": 4,
   "metadata": {
    "collapsed": true
   },
   "outputs": [],
   "source": [
    "set_fit_pars(ms_enabled=True)"
   ]
  },
  {
   "cell_type": "code",
   "execution_count": 5,
   "metadata": {
    "collapsed": false
   },
   "outputs": [],
   "source": [
    "dat = fetch.Msid('aacccdpt', NOW - 60, NOW + 60, stat='5min')"
   ]
  },
  {
   "cell_type": "code",
   "execution_count": 6,
   "metadata": {
    "collapsed": false
   },
   "outputs": [
    {
     "data": {
      "text/plain": [
       "-14.684631"
      ]
     },
     "execution_count": 6,
     "metadata": {},
     "output_type": "execute_result"
    }
   ],
   "source": [
    "t_dat_now = np.median(dat.vals)\n",
    "t_dat_now"
   ]
  },
  {
   "cell_type": "code",
   "execution_count": 7,
   "metadata": {
    "collapsed": false
   },
   "outputs": [
    {
     "data": {
      "text/plain": [
       "10.264147939723232"
      ]
     },
     "execution_count": 7,
     "metadata": {},
     "output_type": "execute_result"
    }
   ],
   "source": [
    "mag50_enabled = mag_for_p_acq(0.5, date=NOW, t_ccd=t_dat_now)\n",
    "mag50_enabled"
   ]
  },
  {
   "cell_type": "code",
   "execution_count": 8,
   "metadata": {
    "collapsed": false
   },
   "outputs": [],
   "source": [
    "datd = fetch.Msid('aacccdpt', NOW - 365 * 4, NOW + 60, stat='daily')"
   ]
  },
  {
   "cell_type": "code",
   "execution_count": 22,
   "metadata": {
    "collapsed": false
   },
   "outputs": [
    {
     "data": {
      "image/png": "[encoded data removed]",
      "text/plain": [
       "<matplotlib.figure.Figure at 0x7efe5980d390>"
      ]
     },
     "metadata": {},
     "output_type": "display_data"
    }
   ],
   "source": [
    "plot_cxctime(datd.times, datd.vals);\n",
    "plt.ylim(-20, -13)\n",
    "plt.grid()\n",
    "plt.ylabel('degC')\n",
    "plt.title('ACA CCD temperature');"
   ]
  },
  {
   "cell_type": "code",
   "execution_count": 10,
   "metadata": {
    "collapsed": false
   },
   "outputs": [],
   "source": [
    "date0 = DateTime('2012:180')\n",
    "date1 = DateTime('2014:180')\n",
    "i0, i1 = np.searchsorted(datd.times, [date0.secs, date1.secs])"
   ]
  },
  {
   "cell_type": "code",
   "execution_count": 11,
   "metadata": {
    "collapsed": true
   },
   "outputs": [],
   "source": [
    "secs = datd.times[i0:i1]\n",
    "dyrs = (secs - secs[0]) / (86400 * 365.25)\n",
    "vals = datd.vals[i0:i1]"
   ]
  },
  {
   "cell_type": "code",
   "execution_count": 12,
   "metadata": {
    "collapsed": false
   },
   "outputs": [
    {
     "data": {
      "text/plain": [
       "array([  1.45217614, -18.22650649])"
      ]
     },
     "execution_count": 12,
     "metadata": {},
     "output_type": "execute_result"
    }
   ],
   "source": [
    "r = np.polyfit(dyrs, vals, 1)\n",
    "r"
   ]
  },
  {
   "cell_type": "code",
   "execution_count": 13,
   "metadata": {
    "collapsed": true
   },
   "outputs": [],
   "source": [
    "degc_per_year = r[0]"
   ]
  },
  {
   "cell_type": "code",
   "execution_count": 14,
   "metadata": {
    "collapsed": false
   },
   "outputs": [
    {
     "data": {
      "text/plain": [
       "-13.125986461473207"
      ]
     },
     "execution_count": 14,
     "metadata": {},
     "output_type": "execute_result"
    }
   ],
   "source": [
    "t_model_now = np.polyval(r, (NOW - date0) / 365.0)\n",
    "t_model_now"
   ]
  },
  {
   "cell_type": "code",
   "execution_count": 15,
   "metadata": {
    "collapsed": false
   },
   "outputs": [],
   "source": [
    "dyrs = np.arange(6.0)"
   ]
  },
  {
   "cell_type": "code",
   "execution_count": 16,
   "metadata": {
    "collapsed": false
   },
   "outputs": [
    {
     "data": {
      "text/plain": [
       "array([-14.68463135, -13.23245521, -11.78027907, -10.32810293,\n",
       "        -8.87592679,  -7.42375066])"
      ]
     },
     "execution_count": 16,
     "metadata": {},
     "output_type": "execute_result"
    }
   ],
   "source": [
    "t_ccds = t_dat_now + degc_per_year * dyrs\n",
    "t_ccds"
   ]
  },
  {
   "cell_type": "code",
   "execution_count": 17,
   "metadata": {
    "collapsed": true
   },
   "outputs": [],
   "source": [
    "set_fit_pars(ms_enabled=False)"
   ]
  },
  {
   "cell_type": "code",
   "execution_count": 18,
   "metadata": {
    "collapsed": false
   },
   "outputs": [
    {
     "data": {
      "text/plain": [
       "[10.804731924050373,\n",
       " 10.629055871677577,\n",
       " 10.479916202895042,\n",
       " 10.352722141226128,\n",
       " 10.241733263344592,\n",
       " 10.14792067402091]"
      ]
     },
     "execution_count": 18,
     "metadata": {},
     "output_type": "execute_result"
    }
   ],
   "source": [
    "dates = DateTime(NOW.frac_year + dyrs, format='frac_year')\n",
    "mag50_disabled = [mag_for_p_acq(0.5, date=date, t_ccd=t_ccd) for date, t_ccd in zip(dates.date, t_ccds)]\n",
    "mag50_disabled\n",
    "    "
   ]
  },
  {
   "cell_type": "code",
   "execution_count": 19,
   "metadata": {
    "collapsed": false
   },
   "outputs": [
    {
     "data": {
      "image/png": "[encoded data removed]",
      "text/plain": [
       "<matplotlib.figure.Figure at 0x7efe4763ba90>"
      ]
     },
     "metadata": {},
     "output_type": "display_data"
    }
   ],
   "source": [
    "plot_cxctime(dates.secs, mag50_disabled, label='MS filter DISABLED')\n",
    "plt.grid()\n",
    "plt.ylabel('ACA magnitude')\n",
    "plt.title('Limited ACA mag for MS filter disabled')\n",
    "plot_cxctime(dates.secs, np.ones(len(dates.secs)) * mag50_enabled, '--r', label='MS filter ENABLED (2016:001)')\n",
    "plt.legend(loc='upper right');"
   ]
  },
  {
   "cell_type": "code",
   "execution_count": 20,
   "metadata": {
    "collapsed": false
   },
   "outputs": [
    {
     "data": {
      "text/plain": [
       "'2019:292:17:40:08.336'"
      ]
     },
     "execution_count": 20,
     "metadata": {},
     "output_type": "execute_result"
    }
   ],
   "source": [
    "dyr_equiv = Ska.Numpy.interpolate(dyrs[::-1], mag50_disabled[::-1], np.array([mag50_enabled]))\n",
    "date_equiv = NOW + dyr_equiv * 365.25\n",
    "date_equiv.date[0]"
   ]
  },
  {
   "cell_type": "code",
   "execution_count": null,
   "metadata": {
    "collapsed": true
   },
   "outputs": [],
   "source": []
  }
 ],
 "metadata": {
  "kernelspec": {
   "display_name": "Python 2",
   "language": "python",
   "name": "python2"
  },
  "language_info": {
   "codemirror_mode": {
    "name": "ipython",
    "version": 2
   },
   "file_extension": ".py",
   "mimetype": "text/x-python",
   "name": "python",
   "nbconvert_exporter": "python",
   "pygments_lexer": "ipython2",
   "version": "2.7.9"
  }
 },
 "nbformat": 4,
 "nbformat_minor": 0
}
