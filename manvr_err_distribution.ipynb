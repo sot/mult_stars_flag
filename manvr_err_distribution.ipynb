{
 "cells": [
  {
   "cell_type": "markdown",
   "metadata": {},
   "source": [
    "# Simulate distribution of maneuver errors without multiple stars flag\n",
    "\n",
    "This notebook attempts to estimate the distribution of maneuver errors that will occur if there is no OBC star processing filtering on the ACA multiple stars flag.\n",
    "\n",
    "The process is as follows:\n",
    "\n",
    "- Collect post-facto information for actual star catalogs since 2010:001.  This includes star AGASC ID, median Y, Z angle, magnitude, start time and obsid.\n",
    "- For each star catalog, generate synthetic centroid errors using the star magnitude and a background based on the most recent dark calibration, adjusted to be at $T_{CCD}$.\n",
    "  - $T_{CCD}$ is determined by sampling actual CCD temperature at a random time in the most recent 6 months and then adding a fixed offset.  The fixed offset would account for increasing the planning limit, but in this particular analysis the offset is 0.0.  This represents the case of patching the OBC without changing the planning limit.\n",
    "  - For each star catalog, a total of 25 row, column offset pairs are applied to (roughly) simulate dithering.  \n",
    "  - Row offset is [-2, -1, 0, 1, 2] pixels, and likewise for columns.\n",
    "  - All \"readout windows\" are shifted accordingly and the corresponding dark current image pixels determine the image background for centroiding.\n",
    "  - Centroiding is a first-moment centroid using the 6 x 6 mousebitten image.\n",
    "  - The star \"image\" is actually just a delta-function at the center of the readout window.  FM-centroiding is linear so this simplification doesn't impact the results.\n",
    "- The simulated centroid errors due to the non-uniform background generate an attitude error.\n",
    "- This is assumed to correspond to the instantaneous error in fitting the constellation of true star positions to the perturbed positions.\n",
    "- The fit is parametrized by a rotation and an offset ($d\\theta_X$, $dY$, and $dZ$)\n",
    "- These values are determined using a linear matrix first-order approximation (least-squares fit via matrix pseudo-inversion).\n",
    "- The $d\\theta_X$ values are collected and plotted as a histogram.\n",
    "- In order to estimate the resultant manuever errors, for each $d\\theta_X$ a maneuver angle is drawn randomly from actual maneuvers since 2010:001.\n",
    "- The maneuver error is $d\\theta_X * \\sin(\\phi)$ where $\\phi$ is the maneuver angle."
   ]
  },
  {
   "cell_type": "markdown",
   "metadata": {},
   "source": [
    "### Key result: Cumulative distribution of per-axis maneuver error"
   ]
  },
  {
   "cell_type": "markdown",
   "metadata": {},
   "source": [
    "<img src=\"man_err_hist_delta_2.0.png\">"
   ]
  },
  {
   "cell_type": "markdown",
   "metadata": {},
   "source": [
    "**Figure 1** above shows the final result of the simulation as a histogram of the maximum maneuver error in pitch or yaw for all simulated observation / maneuver pairings.  The maneuver error includes the actual observed one-shot attitude update and the simulated maneuver error due to centroiding error just prior to the maneuver.  This analysis is conservative in that the actual one-shots already include this component (at a level which is not definitively understood).\n",
    "\n",
    "The simulations were done using temperatures sampled from a 6-month period prior to Feb. 2016.  These temperatures were artificially biased upward by +2 C in order to approximate a -12 C ACA CCD planning limit.\n",
    "\n",
    "This simulation indicates the potential for a failed acquisition (resulting in BSH or NSM transition) approximately once per 8 years.  This assumes standard 120 arcsec acquisition search boxes.  This rate also assumes 1000 science observations per year, and that radiation zone dwells (ERs) can always use high quality star catalogs."
   ]
  },
  {
   "cell_type": "markdown",
   "metadata": {},
   "source": [
    "### Code"
   ]
  },
  {
   "cell_type": "code",
   "execution_count": 1,
   "metadata": {
    "collapsed": false
   },
   "outputs": [],
   "source": [
    "import os\n",
    "from itertools import izip, product\n",
    "import numpy as np\n",
    "from scipy import linalg\n",
    "from astropy.table import Table\n",
    "from mica.archive.aca_dark import dark_cal\n",
    "import chandra_aca\n",
    "from kadi import events\n",
    "from matplotlib import pyplot as plt\n",
    "%matplotlib inline\n",
    "from Chandra.Time import DateTime\n",
    "from Ska.engarchive import fetch_sci\n",
    "from __future__ import division"
   ]
  },
  {
   "cell_type": "code",
   "execution_count": 2,
   "metadata": {
    "collapsed": true
   },
   "outputs": [],
   "source": [
    "DATE_NOW = '2015-03-30T00:00:00'  # Effective processing date for original analysis published Mar-30-2015\n",
    "DATE_NOW = '2016-02-19T00:00:00'"
   ]
  },
  {
   "cell_type": "code",
   "execution_count": 3,
   "metadata": {
    "collapsed": true
   },
   "outputs": [],
   "source": [
    "def rot(theta_arcsec):\n",
    "    \"\"\"\n",
    "    Rotation matrix for ``theta_arcsec`` angle\n",
    "    \"\"\"\n",
    "    theta = np.radians(theta_arcsec / 3600.)\n",
    "    c = np.cos(theta)\n",
    "    s = np.sin(theta)\n",
    "    m = np.array([[c ,s],\n",
    "                  [-s, c]])\n",
    "    return m"
   ]
  },
  {
   "cell_type": "code",
   "execution_count": 4,
   "metadata": {
    "collapsed": false
   },
   "outputs": [],
   "source": [
    "def m_rot_off(y, z):\n",
    "    \"\"\"\n",
    "    First order approximation to a rotation and linear offset dtheta, dY, dZ\n",
    "    where::\n",
    "    \n",
    "      |dy|       | dtheta |\n",
    "      |  | = M . | dY     |\n",
    "      |dz|       | dZ     |\n",
    "    \"\"\"\n",
    "    M = np.array([[ z, 1, 0],\n",
    "                  [-y, 0, 1]], \n",
    "                dtype=np.float64)\n",
    "    return M"
   ]
  },
  {
   "cell_type": "code",
   "execution_count": 5,
   "metadata": {
    "collapsed": false
   },
   "outputs": [],
   "source": [
    "def transform_matrix(yz):\n",
    "    ms = []\n",
    "    for y, z in yz:\n",
    "        ms.append(m_rot_off(y, z))\n",
    "    M = np.vstack(ms)\n",
    "    return M"
   ]
  },
  {
   "cell_type": "code",
   "execution_count": 6,
   "metadata": {
    "collapsed": true
   },
   "outputs": [],
   "source": [
    "def write_guide_stats_to_npy():\n",
    "    from Ska.DBI import DBI\n",
    "    db = DBI(dbi='sybase', server='sybase', user='aca_read')\n",
    "    dat = db.fetchall('select obsid, obi, id as agasc_id, type, kalman_tstart, aoacyan_median as yag,'\n",
    "                      ' aoaczan_median as zag, aoacmag_median as mag, n_samples, mult_star_samples, slot'\n",
    "                      ' from trak_stats_data'\n",
    "                      ' WHERE kalman_datestart > \"2010\"'\n",
    "                      ' AND aoacyan_median > -3000 AND aoaczan_median > -3000'\n",
    "                      ' AND type != \"FID\"')\n",
    "    np.save('guide_stats.npy', np.array(dat))\n",
    "    db.conn.close()"
   ]
  },
  {
   "cell_type": "code",
   "execution_count": 7,
   "metadata": {
    "collapsed": true
   },
   "outputs": [],
   "source": [
    "def rotate_yag_zag(yag, zag, theta_arcsec):\n",
    "    yzT = np.vstack([yag,\n",
    "                     zag])\n",
    "    yzrT = rot(theta_arcsec).dot(yzT)\n",
    "    return yzrT[0, :], yzrT[1, :]    "
   ]
  },
  {
   "cell_type": "code",
   "execution_count": 8,
   "metadata": {
    "collapsed": true
   },
   "outputs": [],
   "source": [
    "def calc_Minv(yag, zag):\n",
    "    yzT = np.vstack([yag, \n",
    "                     zag])\n",
    "    yz = yzT.T\n",
    "    M = transform_matrix(yz)\n",
    "    Minv = linalg.inv(M.T.dot(M)).dot(M.T)\n",
    "    return Minv\n"
   ]
  },
  {
   "cell_type": "code",
   "execution_count": 9,
   "metadata": {
    "collapsed": false
   },
   "outputs": [],
   "source": [
    "def solve_theta_dy_dz(yag, zag, dyag, dzag, Minv=None):\n",
    "    if Minv is None:\n",
    "        Minv = calc_Minv(yag, zag)\n",
    "    dyzT = np.vstack([dyag, \n",
    "                      dzag])\n",
    "    dyz_1d = dyzT.T.ravel()\n",
    "    \n",
    "    theta, dy, dz = Minv.dot(dyz_1d)\n",
    "    return np.degrees(theta) * 3600, dy, dz"
   ]
  },
  {
   "cell_type": "code",
   "execution_count": 10,
   "metadata": {
    "collapsed": false
   },
   "outputs": [],
   "source": [
    "# Get information about guide stars since 2010:001, possibly pulling the\n",
    "# data from an existing numpy save file for speed.\n",
    "if not os.path.exists('guide_stats.npy'):\n",
    "    write_guide_stats_to_npy()\n",
    "\n",
    "guide_stats = Table(np.load('guide_stats.npy'))\n",
    "g_guide_stats = guide_stats.group_by(['obsid', 'obi'])"
   ]
  },
  {
   "cell_type": "code",
   "execution_count": 11,
   "metadata": {
    "collapsed": false
   },
   "outputs": [
    {
     "data": {
      "text/html": [
       "&lt;Table masked=False length=8&gt;\n",
       "<table id=\"table140667506915536\">\n",
       "<thead><tr><th>obsid</th><th>obi</th><th>agasc_id</th><th>type</th><th>kalman_tstart</th><th>yag</th><th>zag</th><th>mag</th><th>n_samples</th><th>not_tracking_samples</th><th>mult_star_samples</th><th>slot</th></tr></thead>\n",
       "<thead><tr><th>int64</th><th>int64</th><th>int64</th><th>string24</th><th>float64</th><th>float64</th><th>float64</th><th>float64</th><th>int64</th><th>int64</th><th>int64</th><th>int64</th></tr></thead>\n",
       "<tr><td>9930</td><td>0</td><td>241700520</td><td>BOT</td><td>380024188.192</td><td>1702.025</td><td>2066.9</td><td>8.625</td><td>14669</td><td>0</td><td>0</td><td>3</td></tr>\n",
       "<tr><td>9930</td><td>0</td><td>312870352</td><td>BOT</td><td>380024188.192</td><td>-2262.7</td><td>-2011.9</td><td>8.8125</td><td>14669</td><td>0</td><td>6</td><td>4</td></tr>\n",
       "<tr><td>9930</td><td>0</td><td>312872256</td><td>BOT</td><td>380024188.192</td><td>-1525.1</td><td>-1718.025</td><td>8.0</td><td>14669</td><td>0</td><td>4</td><td>5</td></tr>\n",
       "<tr><td>9930</td><td>0</td><td>313012784</td><td>GUI</td><td>380024188.192</td><td>828.325</td><td>2289.05</td><td>8.25</td><td>14669</td><td>0</td><td>0</td><td>6</td></tr>\n",
       "<tr><td>10070</td><td>0</td><td>820643128</td><td>BOT</td><td>382046800.294</td><td>2017.0</td><td>1328.8</td><td>7.4375</td><td>28929</td><td>0</td><td>0</td><td>3</td></tr>\n",
       "<tr><td>10070</td><td>0</td><td>894967360</td><td>BOT</td><td>382046800.294</td><td>-2040.325</td><td>926.5</td><td>7.1875</td><td>28929</td><td>0</td><td>0</td><td>4</td></tr>\n",
       "<tr><td>10070</td><td>0</td><td>896671000</td><td>BOT</td><td>382046800.294</td><td>-2169.5</td><td>-2288.5</td><td>8.625</td><td>28929</td><td>0</td><td>2</td><td>5</td></tr>\n",
       "<tr><td>10070</td><td>0</td><td>896671704</td><td>BOT</td><td>382046800.294</td><td>-607.475</td><td>-777.05</td><td>7.875</td><td>28929</td><td>0</td><td>2</td><td>6</td></tr>\n",
       "</table>"
      ],
      "text/plain": [
       "<Table masked=False length=8>\n",
       "obsid  obi   agasc_id   type   ... not_tracking_samples mult_star_samples  slot\n",
       "int64 int64   int64   string24 ...        int64               int64       int64\n",
       "----- ----- --------- -------- ... -------------------- ----------------- -----\n",
       " 9930     0 241700520      BOT ...                    0                 0     3\n",
       " 9930     0 312870352      BOT ...                    0                 6     4\n",
       " 9930     0 312872256      BOT ...                    0                 4     5\n",
       " 9930     0 313012784      GUI ...                    0                 0     6\n",
       "10070     0 820643128      BOT ...                    0                 0     3\n",
       "10070     0 894967360      BOT ...                    0                 0     4\n",
       "10070     0 896671000      BOT ...                    0                 2     5\n",
       "10070     0 896671704      BOT ...                    0                 2     6"
      ]
     },
     "execution_count": 11,
     "metadata": {},
     "output_type": "execute_result"
    }
   ],
   "source": [
    "g_guide_stats[:8]"
   ]
  },
  {
   "cell_type": "markdown",
   "metadata": {},
   "source": [
    "### Test for the first obsid in groups"
   ]
  },
  {
   "cell_type": "code",
   "execution_count": 12,
   "metadata": {
    "collapsed": false
   },
   "outputs": [
    {
     "data": {
      "text/html": [
       "&lt;Table masked=False length=4&gt;\n",
       "<table id=\"table140667506620304\">\n",
       "<thead><tr><th>obsid</th><th>obi</th><th>agasc_id</th><th>type</th><th>kalman_tstart</th><th>yag</th><th>zag</th><th>mag</th><th>n_samples</th><th>not_tracking_samples</th><th>mult_star_samples</th><th>slot</th></tr></thead>\n",
       "<thead><tr><th>int64</th><th>int64</th><th>int64</th><th>string24</th><th>float64</th><th>float64</th><th>float64</th><th>float64</th><th>int64</th><th>int64</th><th>int64</th><th>int64</th></tr></thead>\n",
       "<tr><td>9930</td><td>0</td><td>241700520</td><td>BOT</td><td>380024188.192</td><td>1702.025</td><td>2066.9</td><td>8.625</td><td>14669</td><td>0</td><td>0</td><td>3</td></tr>\n",
       "<tr><td>9930</td><td>0</td><td>312870352</td><td>BOT</td><td>380024188.192</td><td>-2262.7</td><td>-2011.9</td><td>8.8125</td><td>14669</td><td>0</td><td>6</td><td>4</td></tr>\n",
       "<tr><td>9930</td><td>0</td><td>312872256</td><td>BOT</td><td>380024188.192</td><td>-1525.1</td><td>-1718.025</td><td>8.0</td><td>14669</td><td>0</td><td>4</td><td>5</td></tr>\n",
       "<tr><td>9930</td><td>0</td><td>313012784</td><td>GUI</td><td>380024188.192</td><td>828.325</td><td>2289.05</td><td>8.25</td><td>14669</td><td>0</td><td>0</td><td>6</td></tr>\n",
       "</table>"
      ],
      "text/plain": [
       "<Table masked=False length=4>\n",
       "obsid  obi   agasc_id   type   ... not_tracking_samples mult_star_samples  slot\n",
       "int64 int64   int64   string24 ...        int64               int64       int64\n",
       "----- ----- --------- -------- ... -------------------- ----------------- -----\n",
       " 9930     0 241700520      BOT ...                    0                 0     3\n",
       " 9930     0 312870352      BOT ...                    0                 6     4\n",
       " 9930     0 312872256      BOT ...                    0                 4     5\n",
       " 9930     0 313012784      GUI ...                    0                 0     6"
      ]
     },
     "execution_count": 12,
     "metadata": {},
     "output_type": "execute_result"
    }
   ],
   "source": [
    "g0 = g_guide_stats.groups[0]\n",
    "g0"
   ]
  },
  {
   "cell_type": "code",
   "execution_count": 13,
   "metadata": {
    "collapsed": false
   },
   "outputs": [],
   "source": [
    "yag, zag, mag = g0['yag'], g0['zag'], g0['mag']"
   ]
  },
  {
   "cell_type": "markdown",
   "metadata": {},
   "source": [
    "#### Test with simple offset"
   ]
  },
  {
   "cell_type": "code",
   "execution_count": 14,
   "metadata": {
    "collapsed": false
   },
   "outputs": [
    {
     "data": {
      "text/plain": [
       "(-1.1181637552020176e-14, 1.0, 2.0000000000000004)"
      ]
     },
     "execution_count": 14,
     "metadata": {},
     "output_type": "execute_result"
    }
   ],
   "source": [
    "dyag = np.array([1., 1, 1, 1])\n",
    "dzag = np.array([2, 2, 2, 2])\n",
    "solve_theta_dy_dz(yag, zag, dyag, dzag)"
   ]
  },
  {
   "cell_type": "markdown",
   "metadata": {},
   "source": [
    "#### Test with pure rotation"
   ]
  },
  {
   "cell_type": "code",
   "execution_count": 15,
   "metadata": {
    "collapsed": false
   },
   "outputs": [
    {
     "data": {
      "text/plain": [
       "(29.999999894223954, 3.3250101298673085e-06, -1.6553655979648085e-06)"
      ]
     },
     "execution_count": 15,
     "metadata": {},
     "output_type": "execute_result"
    }
   ],
   "source": [
    "yagr, zagr = rotate_yag_zag(yag, zag, 30.0)\n",
    "dyag = yagr - yag\n",
    "dzag = zagr - zag\n",
    "solve_theta_dy_dz(yag, zag, dyag, dzag)"
   ]
  },
  {
   "cell_type": "markdown",
   "metadata": {},
   "source": [
    "#### Test with rotation and offset"
   ]
  },
  {
   "cell_type": "code",
   "execution_count": 16,
   "metadata": {
    "collapsed": false
   },
   "outputs": [
    {
     "data": {
      "text/plain": [
       "(29.999999894223937, 1.0000033250101299, 1.9999983446344021)"
      ]
     },
     "execution_count": 16,
     "metadata": {},
     "output_type": "execute_result"
    }
   ],
   "source": [
    "yagr, zagr = rotate_yag_zag(yag, zag, 30.0)\n",
    "dyag = yagr - yag + np.array([1., 1, 1, 1])\n",
    "dzag = zagr - zag + np.array([2, 2, 2, 2])\n",
    "solve_theta_dy_dz(yag, zag, dyag, dzag)"
   ]
  },
  {
   "cell_type": "code",
   "execution_count": 17,
   "metadata": {
    "collapsed": false
   },
   "outputs": [],
   "source": [
    "def get_dark_image(date=DATE_NOW, ccd_temp=-14.0):\n",
    "    dc = dark_cal.get_dark_cal_props(date=date, select='before', include_image=True)\n",
    "    scale = dark_cal.dark_temp_scale(dc['ccd_temp'], ccd_temp)\n",
    "    image = dc['image'] * scale\n",
    "    return image"
   ]
  },
  {
   "cell_type": "code",
   "execution_count": 18,
   "metadata": {
    "collapsed": false
   },
   "outputs": [],
   "source": [
    "dark_image = get_dark_image(ccd_temp=-15.0)"
   ]
  },
  {
   "cell_type": "code",
   "execution_count": 19,
   "metadata": {
    "collapsed": false
   },
   "outputs": [],
   "source": [
    "row0, col0 = np.round(chandra_aca.yagzag_to_pixels(yag, zag))"
   ]
  },
  {
   "cell_type": "code",
   "execution_count": 20,
   "metadata": {
    "collapsed": false
   },
   "outputs": [],
   "source": [
    "import contextlib\n",
    "\n",
    "@contextlib.contextmanager\n",
    "def printoptions(*args, **kwargs):\n",
    "    original = np.get_printoptions()\n",
    "    np.set_printoptions(*args, **kwargs)\n",
    "    yield \n",
    "    np.set_printoptions(**original)"
   ]
  },
  {
   "cell_type": "code",
   "execution_count": 21,
   "metadata": {
    "collapsed": false
   },
   "outputs": [],
   "source": [
    "irow, icol = np.mgrid[0:6, 0:6] - 2.5\n",
    "\n",
    "def starcat_theta_dy_dz(stars, dark_image, d_rows=[0], d_cols=[0], star_row=0.0, star_col=0.0):\n",
    "    \"\"\"\n",
    "    For a given set of input ``stars`` and a background ``dark_image``, compute the\n",
    "    centroid offsets and resultant roll, pitch, yaw errors.  This is done over all combinations\n",
    "    of ``d_rows`` and ``d_cols``.\n",
    "    \"\"\"\n",
    "    theta_arcsecs = []\n",
    "    dys = []\n",
    "    dzs = []\n",
    "    dyags_list = []\n",
    "    dzags_list = []\n",
    "    bkg_imgs_list = []\n",
    "    \n",
    "    yags, zags, mags = stars['yag'], stars['zag'], stars['mag']\n",
    "    rows, cols = chandra_aca.yagzag_to_pixels(yags, zags)\n",
    "    Minv = calc_Minv(yags, zags)\n",
    "    \n",
    "    # Iterate over integer row and column offsets, crudely emulating dither\n",
    "    for d_row in d_rows:\n",
    "        for d_col in d_cols:\n",
    "            row_centroids = []\n",
    "            col_centroids = []\n",
    "            bkg_imgs = []\n",
    "            \n",
    "            # Iterate over stars\n",
    "            for row, col, mag in izip(rows, cols, mags):\n",
    "                row += d_row\n",
    "                col += d_col\n",
    "                if np.abs(row) > 508 or np.abs(col) > 508:\n",
    "                    break\n",
    "                row0 = int(row + 512 - 3)\n",
    "                col0 = int(col + 512 - 3)\n",
    "                \n",
    "                # Extract the mouse-bitten background\n",
    "                bkg = dark_image[row0:row0 + 6, col0:col0 + 6].copy()\n",
    "                bkg[0, 0] = bkg[0, 5] = bkg[5, 0] = bkg[5, 5] = 0\n",
    "                bkg_sum = np.sum(bkg)\n",
    "                \n",
    "                star_sum = chandra_aca.mag_to_count_rate(mag)\n",
    "                row_centroid = (star_sum * star_row + np.sum(irow * bkg)) / (star_sum + bkg_sum)\n",
    "                col_centroid = (star_sum * star_col + np.sum(icol * bkg)) / (star_sum + bkg_sum)\n",
    "                \n",
    "                row_centroids.append(row_centroid)\n",
    "                col_centroids.append(col_centroid)\n",
    "                bkg_imgs.append(bkg)\n",
    " \n",
    "            else:  # Made it through loop with no break so all centroids were computed\n",
    "                \n",
    "                # Now compute the dyags and dzags for all the stars given the row and col centroid offsets\n",
    "                yag_cs, zag_cs = chandra_aca.pixels_to_yagzag(row_centroids, col_centroids)\n",
    "                yag_0s, zag_0s = chandra_aca.pixels_to_yagzag(np.zeros(len(stars)), np.zeros(len(stars)))\n",
    "                dyags = yag_cs - yag_0s\n",
    "                dzags = zag_cs - zag_0s\n",
    "\n",
    "                # And finally compute the attitude error\n",
    "                theta_arcsec, dy, dz = solve_theta_dy_dz(yags, zags, dyags, dzags, Minv=Minv)\n",
    "\n",
    "                theta_arcsecs.append(theta_arcsec)\n",
    "                dys.append(dy)\n",
    "                dzs.append(dz)\n",
    "                dyags_list.append(dyags)\n",
    "                dzags_list.append(dzags)\n",
    "                bkg_imgs_list.append(bkg_imgs)\n",
    "                \n",
    "    if d_rows == [0] and d_cols == [0]:\n",
    "        return theta_arcsecs[0], dys[0], dzs[0], dyags_list[0], dzags_list[0], bkg_imgs_list[0]\n",
    "    else:\n",
    "        return theta_arcsecs, dys, dzs, dyags_list, dzags_list, bkg_imgs_list"
   ]
  },
  {
   "cell_type": "code",
   "execution_count": 22,
   "metadata": {
    "collapsed": false
   },
   "outputs": [],
   "source": [
    "def plot_solution(stars, dyags, dzags, theta_arcsec, dy, dz):\n",
    "    \"\"\"\n",
    "    Make a plot of the computed roll, pitch, yaw offsets for visual validation of method\n",
    "    \"\"\"\n",
    "    scale = 1000\n",
    "    plt.figure(figsize=(6, 6))\n",
    "    yags, zags = stars['yag'] ,stars['zag']\n",
    "    yzT = np.vstack([yags, \n",
    "                     zags]) \n",
    "    M = transform_matrix(yzT.T)\n",
    "    dyz = M.dot([np.radians(theta_arcsec / 3600.), dy, dz]).reshape(-1, 2)\n",
    "    fit_dyags, fit_dzags = dyz[:, 0], dyz[:, 1]\n",
    "    plt.plot(yags, zags, 'or')\n",
    "    plt.plot(yags + dyags * scale, zags + dzags * scale, '.b')\n",
    "    for yag, zag, dyag, dzag in zip(yags, zags, dyags, dzags):\n",
    "        plt.arrow(yag, zag, dyag * scale, dzag * scale, width=5)\n",
    "    plt.plot(yags + fit_dyags * scale, zags + fit_dzags * scale, '.m')\n",
    "    for yag, zag, dyag, dzag in zip(yags, zags, fit_dyags, fit_dzags):\n",
    "        plt.arrow(yag, zag, dyag * scale, dzag * scale, width=5, color='m')\n",
    "    plt.xlim(-2600, 2600)\n",
    "    plt.ylim(-2600, 2600)\n",
    "    plt.grid()\n",
    "    print(np.mean(dyags - fit_dyags), np.mean(dzags - fit_dzags))\n",
    "    "
   ]
  },
  {
   "cell_type": "code",
   "execution_count": 23,
   "metadata": {
    "collapsed": false,
    "scrolled": false
   },
   "outputs": [
    {
     "name": "stdout",
     "output_type": "stream",
     "text": [
      "T_ccd=-18C theta=29.002 dy=0.223 dz=0.131 \n",
      "dyags=[ 0.04661022 -0.02987242 -0.28220073  0.72172433 -0.01244788] \n",
      "dzags=[ 0.05233095  0.01112365  0.27531596  0.03289595 -0.02664909]\n",
      "\n",
      "T_ccd=-12C theta=44.478 dy=0.343 dz=0.202 \n",
      "dyags=[ 0.07897883 -0.04746245 -0.43547226  1.11060199 -0.02117723] \n",
      "dzags=[ 0.08867235  0.01767368  0.42484815  0.05062087 -0.04533735]\n"
     ]
    }
   ],
   "source": [
    "stars = g_guide_stats.groups[12]\n",
    "\n",
    "theta_arcsec, dy, dz, dyags, dzags, bkg_imgs = starcat_theta_dy_dz(stars, get_dark_image(ccd_temp=-18.0))\n",
    "print('T_ccd=-18C theta={:.3f} dy={:.3f} dz={:.3f} \\ndyags={} \\ndzags={}\\n'.format(theta_arcsec, dy, dz, dyags, dzags))\n",
    "\n",
    "theta_arcsec, dy, dz, dyags, dzags, bkg_imgs = starcat_theta_dy_dz(stars, get_dark_image(ccd_temp=-12.0))\n",
    "print('T_ccd=-12C theta={:.3f} dy={:.3f} dz={:.3f} \\ndyags={} \\ndzags={}'.format(theta_arcsec, dy, dz, dyags, dzags))"
   ]
  },
  {
   "cell_type": "code",
   "execution_count": 24,
   "metadata": {
    "collapsed": false,
    "scrolled": false
   },
   "outputs": [
    {
     "name": "stdout",
     "output_type": "stream",
     "text": [
      "(-2.7755575615628914e-17, -1.1102230246251566e-17)\n",
      "(-8.8817841970012528e-17, 1.1102230246251566e-17)\n",
      "(-2.0816681711721684e-18, 5.551115123125783e-18)\n"
     ]
    },
    {
     "data": {
      "image/png": "[encoded data removed]",
      "text/plain": [
       "<matplotlib.figure.Figure at 0x7fefb4a54210>"
      ]
     },
     "metadata": {},
     "output_type": "display_data"
    },
    {
     "data": {
      "image/png": "[encoded data removed]",
      "text/plain": [
       "<matplotlib.figure.Figure at 0x7fefb4985e10>"
      ]
     },
     "metadata": {},
     "output_type": "display_data"
    },
    {
     "data": {
      "image/png": "[encoded data removed]",
      "text/plain": [
       "<matplotlib.figure.Figure at 0x7fefb48db0d0>"
      ]
     },
     "metadata": {},
     "output_type": "display_data"
    }
   ],
   "source": [
    "stars = g_guide_stats.groups[12]\n",
    "theta_arcsecs, dys, dzs, dyags_list, dzags_list, bkg_imgs_list = starcat_theta_dy_dz(\n",
    "    stars, dark_image, d_rows=[-2, 0, 2])\n",
    "for theta_arcsec, dy, dz, dyags, dzags in izip(theta_arcsecs, dys, dzs, dyags_list, dzags_list):\n",
    "    plot_solution(stars, dyags, dzags, theta_arcsec, dy, dz)"
   ]
  },
  {
   "cell_type": "code",
   "execution_count": 25,
   "metadata": {
    "collapsed": true
   },
   "outputs": [],
   "source": [
    "dark_image_cache = {}\n",
    "\n",
    "def get_dark_image_from_cache(ccd_temp):\n",
    "    \"\"\"\n",
    "    Return scaled dark current image for ``ccd_temp``.  This caches in 0.25 degC\n",
    "    intervals for speed.\n",
    "    \"\"\"\n",
    "    ccd_temp = np.round(ccd_temp * 4) / 4.0  # round to nearest 0.25 degC\n",
    "    if ccd_temp not in dark_image_cache:\n",
    "        dark_image_cache[ccd_temp] = get_dark_image(date=DATE_NOW, ccd_temp=ccd_temp)\n",
    "    return dark_image_cache[ccd_temp]"
   ]
  },
  {
   "cell_type": "code",
   "execution_count": 26,
   "metadata": {
    "collapsed": true
   },
   "outputs": [],
   "source": [
    "# Fetch CCD telemetry and remove outliers\n",
    "ccd_tlm = fetch_sci.Msid('aacccdpt', DateTime(DATE_NOW) - 180, DateTime(DATE_NOW), stat='5min')\n",
    "ccd_tlm.remove_intervals(events.ltt_bads | events.safe_suns | events.normal_suns)\n",
    "ccd_tlm.vals = ccd_tlm.vals.clip(None, np.percentile(ccd_tlm.vals, 99.5))"
   ]
  },
  {
   "cell_type": "code",
   "execution_count": 27,
   "metadata": {
    "collapsed": false
   },
   "outputs": [
    {
     "data": {
      "image/png": "[encoded data removed]",
      "text/plain": [
       "<matplotlib.figure.Figure at 0x7fefb47ede50>"
      ]
     },
     "metadata": {},
     "output_type": "display_data"
    }
   ],
   "source": [
    "plt.hist(ccd_tlm.vals, bins=100, log=True);"
   ]
  },
  {
   "cell_type": "code",
   "execution_count": 28,
   "metadata": {
    "collapsed": false
   },
   "outputs": [
    {
     "data": {
      "image/png": "[encoded data removed]",
      "text/plain": [
       "<matplotlib.figure.Figure at 0x7fefa61cb850>"
      ]
     },
     "metadata": {},
     "output_type": "display_data"
    }
   ],
   "source": [
    "ccd_tlm.plot()"
   ]
  },
  {
   "cell_type": "code",
   "execution_count": 29,
   "metadata": {
    "collapsed": false
   },
   "outputs": [],
   "source": [
    "def calc_obsids_thetas(delta_ccd_temp=1.0, max_starcats=150, d_rows=[-2, -1, 0, 1, 2],\n",
    "                         d_cols=[-2, -1, 0, 1, 2]):\n",
    "    \"\"\"\n",
    "    This is the main simulation loop.  Go through each obsid and get the roll error (theta)\n",
    "    for all combinations of ``d_rows`` and ``d_cols`` (25 by default).\n",
    "    \"\"\"\n",
    "    obsids = []\n",
    "    thetas = []\n",
    "    for i, stars in enumerate(g_guide_stats.groups):\n",
    "        ccd_temp = np.random.choice(ccd_tlm.vals) + delta_ccd_temp\n",
    "        dark_image = get_dark_image_from_cache(ccd_temp)\n",
    "        theta_arcsecs, dys, dzs, dyags_list, dzags_list, bkg_imgs_list = starcat_theta_dy_dz(\n",
    "            stars, dark_image,                                         \n",
    "            d_rows=d_rows,                                                                  \n",
    "            d_cols=d_cols)\n",
    "        thetas.append(np.abs(theta_arcsecs))\n",
    "        obsids.append(stars['obsid'][0] * np.ones(len(theta_arcsecs), dtype=int))\n",
    "        if max_starcats and i > max_starcats:\n",
    "            break\n",
    "        if i % 500 == 0:\n",
    "            print(i)\n",
    "            \n",
    "    return Table([np.concatenate(obsids), np.concatenate(thetas)], names=['obsid', 'theta'])"
   ]
  },
  {
   "cell_type": "code",
   "execution_count": 30,
   "metadata": {
    "collapsed": false,
    "scrolled": false
   },
   "outputs": [
    {
     "name": "stdout",
     "output_type": "stream",
     "text": [
      "0\n",
      "500\n",
      "1000\n",
      "1500\n",
      "2000\n",
      "2500\n",
      "3000\n",
      "3500\n",
      "4000\n",
      "4500\n",
      "5000\n",
      "5500\n",
      "6000\n",
      "6500\n",
      "7000\n",
      "7500\n",
      "8000\n",
      "8500\n"
     ]
    }
   ],
   "source": [
    "# Run the simulation.  Takes a couple of minutes or so.\n",
    "obsids_thetas = calc_obsids_thetas(max_starcats=None, delta_ccd_temp=2.0)"
   ]
  },
  {
   "cell_type": "code",
   "execution_count": 31,
   "metadata": {
    "collapsed": false
   },
   "outputs": [],
   "source": [
    "# Pull out the worst-case roll errors for each obsid\n",
    "obsids_thetas = obsids_thetas.group_by('obsid')\n",
    "theta_maxes = obsids_thetas.groups.aggregate(np.max)\n",
    "theta_maxes.sort('theta')"
   ]
  },
  {
   "cell_type": "code",
   "execution_count": 32,
   "metadata": {
    "collapsed": false,
    "scrolled": true
   },
   "outputs": [
    {
     "data": {
      "text/html": [
       "&lt;Table masked=False length=10&gt;\n",
       "<table id=\"table140667259049232\">\n",
       "<thead><tr><th>obsid</th><th>theta</th></tr></thead>\n",
       "<thead><tr><th>int64</th><th>float64</th></tr></thead>\n",
       "<tr><td>55084</td><td>116.297170779</td></tr>\n",
       "<tr><td>13392</td><td>119.189553064</td></tr>\n",
       "<tr><td>16502</td><td>124.562866426</td></tr>\n",
       "<tr><td>15251</td><td>124.583534407</td></tr>\n",
       "<tr><td>12880</td><td>126.604240183</td></tr>\n",
       "<tr><td>16544</td><td>128.60534049</td></tr>\n",
       "<tr><td>13190</td><td>128.727968352</td></tr>\n",
       "<tr><td>12717</td><td>140.343808183</td></tr>\n",
       "<tr><td>16501</td><td>1151.51667195</td></tr>\n",
       "<tr><td>16500</td><td>1275.82231997</td></tr>\n",
       "</table>"
      ],
      "text/plain": [
       "<Table masked=False length=10>\n",
       "obsid     theta    \n",
       "int64    float64   \n",
       "----- -------------\n",
       "55084 116.297170779\n",
       "13392 119.189553064\n",
       "16502 124.562866426\n",
       "15251 124.583534407\n",
       "12880 126.604240183\n",
       "16544  128.60534049\n",
       "13190 128.727968352\n",
       "12717 140.343808183\n",
       "16501 1151.51667195\n",
       "16500 1275.82231997"
      ]
     },
     "execution_count": 32,
     "metadata": {},
     "output_type": "execute_result"
    }
   ],
   "source": [
    "theta_maxes[-10:]"
   ]
  },
  {
   "cell_type": "code",
   "execution_count": 33,
   "metadata": {
    "collapsed": false
   },
   "outputs": [
    {
     "name": "stdout",
     "output_type": "stream",
     "text": [
      "Science obsids / year = 867\n"
     ]
    }
   ],
   "source": [
    "# Compute science obsids per year (since 2010:001)\n",
    "obsids = np.unique(guide_stats['obsid'])\n",
    "science_obsids = obsids[obsids < 50000]\n",
    "tstart = guide_stats['kalman_tstart']\n",
    "years = (np.max(tstart) - np.min(tstart)) / (365.25 * 86400)\n",
    "print('Science obsids / year = {:.0f}'.format(len(science_obsids) / years))"
   ]
  },
  {
   "cell_type": "code",
   "execution_count": 34,
   "metadata": {
    "collapsed": true
   },
   "outputs": [],
   "source": [
    "# Remove Venus observations\n",
    "ok = (obsids_thetas['obsid'] != 16500) & (obsids_thetas['obsid'] != 16501)\n",
    "obsids_thetas = obsids_thetas[ok]"
   ]
  },
  {
   "cell_type": "code",
   "execution_count": 35,
   "metadata": {
    "collapsed": true
   },
   "outputs": [],
   "source": [
    "# Get randomized maneuver angles corresponding to maneuver following each\n",
    "# simulation obsid\n",
    "manvrs = events.manvrs.filter('2010:001').table\n",
    "manvr_angles = np.random.choice(manvrs['angle'], size=len(obsids_thetas))\n",
    "obsids_thetas['angle'] = manvr_angles"
   ]
  },
  {
   "cell_type": "code",
   "execution_count": 36,
   "metadata": {
    "collapsed": false
   },
   "outputs": [],
   "source": [
    "# The final maneuver error due an initial roll error = roll_error * sin(maneuver_angle)\n",
    "obsids_thetas['manerr'] = obsids_thetas['theta'] * np.sin(np.radians(manvr_angles))"
   ]
  },
  {
   "cell_type": "code",
   "execution_count": 37,
   "metadata": {
    "collapsed": false
   },
   "outputs": [
    {
     "data": {
      "text/plain": [
       "<matplotlib.text.Text at 0x7fefb4a88890>"
      ]
     },
     "execution_count": 37,
     "metadata": {},
     "output_type": "execute_result"
    },
    {
     "data": {
      "image/png": "[encoded data removed]",
      "text/plain": [
       "<matplotlib.figure.Figure at 0x7fefb4a36e90>"
      ]
     },
     "metadata": {},
     "output_type": "display_data"
    }
   ],
   "source": [
    "# Plot the maneuver error due *solely* to the centroid roll error being simulated\n",
    "ax = plt.subplot(1, 1, 1)\n",
    "plt.hist(obsids_thetas['manerr'], bins=np.linspace(0, 150, 50), normed=True, cumulative=-1, log=True)\n",
    "plt.grid();\n",
    "plt.title('Cumulative distribution of maneuver error (no one-shot)')\n",
    "plt.xlabel('Maneuver error (arcsec)')\n",
    "ax2 = ax.twinx()\n",
    "ax2.set_ylim(0.001, 1000)\n",
    "ax2.set_yscale('log')\n",
    "ax2.set_ylabel('Approx number per year')"
   ]
  },
  {
   "cell_type": "code",
   "execution_count": 38,
   "metadata": {
    "collapsed": false
   },
   "outputs": [],
   "source": [
    "# Get manvrs since IRU calibration update on 2014:240, after which scale factor error has been small and stable\n",
    "manvrs = events.manvrs.filter('2014:241').table\n",
    "ok = manvrs['one_shot'] > 0\n",
    "manvrs = manvrs[ok]\n",
    "# i_manvrs = np.random.random_integers(len(manvrs), size=len(obsids_thetas)) - 1\n",
    "# obsid_manvrs = manvrs[i_manvrs]\n",
    "manvrs.sort('angle')"
   ]
  },
  {
   "cell_type": "code",
   "execution_count": 39,
   "metadata": {
    "collapsed": false
   },
   "outputs": [],
   "source": [
    "# Assume that the simulated manvr error is uncorrelated to other errors\n",
    "# e.g. scale factor or misalignment and do a vector sum with a random\n",
    "# angle between the vectors.\n",
    "angles = np.random.uniform(0, 2 * np.pi, size=len(obsids_thetas))\n",
    "i = np.searchsorted(manvrs['angle'], obsids_thetas['angle'])\n",
    "i = np.clip(i, 0, len(manvrs) - 1)\n",
    "x = obsids_thetas['manerr'] + np.cos(angles) * manvrs['one_shot'][i]\n",
    "y = np.sin(angles) * manvrs['one_shot'][i]\n",
    "\n",
    "# Compute the radial maneuver error and the maximum per-axis error.  The\n",
    "# latter value is the useful one since it relates to the acq. search box size.\n",
    "obsids_thetas['full_manerr'] = np.sqrt(x ** 2 + y ** 2)\n",
    "obsids_thetas['full_manerr_max'] = np.maximum(np.abs(x), np.abs(y))"
   ]
  },
  {
   "cell_type": "code",
   "execution_count": 40,
   "metadata": {
    "collapsed": false
   },
   "outputs": [
    {
     "data": {
      "text/plain": [
       "140.34380818342669"
      ]
     },
     "execution_count": 40,
     "metadata": {},
     "output_type": "execute_result"
    }
   ],
   "source": [
    "np.max(obsids_thetas['theta'])"
   ]
  },
  {
   "cell_type": "code",
   "execution_count": 41,
   "metadata": {
    "collapsed": false
   },
   "outputs": [],
   "source": [
    "i = np.argmax(obsids_thetas['full_manerr_max'])"
   ]
  },
  {
   "cell_type": "code",
   "execution_count": 42,
   "metadata": {
    "collapsed": false
   },
   "outputs": [
    {
     "data": {
      "text/html": [
       "&lt;Table masked=False length=1&gt;\n",
       "<table id=\"table140667261578768\">\n",
       "<thead><tr><th>obsid</th><th>theta</th><th>angle</th><th>manerr</th><th>full_manerr</th><th>full_manerr_max</th></tr></thead>\n",
       "<thead><tr><th>int64</th><th>float64</th><th>float64</th><th>float64</th><th>float64</th><th>float64</th></tr></thead>\n",
       "<tr><td>12717</td><td>140.343808183</td><td>74.9384957439</td><td>135.522639101</td><td>158.559706539</td><td>158.415211114</td></tr>\n",
       "</table>"
      ],
      "text/plain": [
       "<Table masked=False length=1>\n",
       "obsid     theta         angle         manerr     full_manerr  full_manerr_max\n",
       "int64    float64       float64       float64       float64        float64    \n",
       "----- ------------- ------------- ------------- ------------- ---------------\n",
       "12717 140.343808183 74.9384957439 135.522639101 158.559706539   158.415211114"
      ]
     },
     "execution_count": 42,
     "metadata": {},
     "output_type": "execute_result"
    }
   ],
   "source": [
    "obsids_thetas[i:i+1]"
   ]
  },
  {
   "cell_type": "code",
   "execution_count": 43,
   "metadata": {
    "collapsed": false
   },
   "outputs": [
    {
     "data": {
      "text/plain": [
       "(158.4152111141793, -6.7676750407802775)"
      ]
     },
     "execution_count": 43,
     "metadata": {},
     "output_type": "execute_result"
    }
   ],
   "source": [
    "x[i], y[i]"
   ]
  },
  {
   "cell_type": "code",
   "execution_count": 44,
   "metadata": {
    "collapsed": false,
    "scrolled": true
   },
   "outputs": [
    {
     "data": {
      "image/png": "[encoded data removed]",
      "text/plain": [
       "<matplotlib.figure.Figure at 0x7fefb4734450>"
      ]
     },
     "metadata": {},
     "output_type": "display_data"
    }
   ],
   "source": [
    "plt.plot(obsids_thetas['angle'], obsids_thetas['full_manerr_max'], '.')\n",
    "plt.grid();"
   ]
  },
  {
   "cell_type": "code",
   "execution_count": 45,
   "metadata": {
    "collapsed": false
   },
   "outputs": [
    {
     "data": {
      "text/plain": [
       "215350"
      ]
     },
     "execution_count": 45,
     "metadata": {},
     "output_type": "execute_result"
    }
   ],
   "source": [
    "len(obsids_thetas)"
   ]
  },
  {
   "cell_type": "code",
   "execution_count": 50,
   "metadata": {
    "collapsed": false
   },
   "outputs": [
    {
     "data": {
      "image/png": "[encoded data removed]",
      "text/plain": [
       "<matplotlib.figure.Figure at 0x7fefa6148c50>"
      ]
     },
     "metadata": {},
     "output_type": "display_data"
    }
   ],
   "source": [
    "# Make the key plot which is documented full at the top of this notebook\n",
    "ax = plt.subplot(1, 1, 1)\n",
    "plt.hist(obsids_thetas['full_manerr_max'], bins=np.linspace(0, 170, 50), normed=True, cumulative=-1, log=True)\n",
    "plt.grid();\n",
    "plt.title('Cumulative distribution of per-axis maneuver error')\n",
    "plt.xlabel('Maneuver error (arcsec)')\n",
    "ax2 = ax.twinx()\n",
    "ax2.set_ylim(0.001, 1000)\n",
    "ax2.set_yscale('log')\n",
    "ax2.set_ylabel('Approx number per year')\n",
    "\n",
    "frac_bad = np.count_nonzero(obsids_thetas['full_manerr_max'] > 100) / len(obsids_thetas) * 1000\n",
    "ax2.plot([100, 100], [0.001, frac_bad], '-r', linewidth=3)\n",
    "ax2.plot([100, 180], [frac_bad, frac_bad], '-r', linewidth=3)\n",
    "ax2.text(110, frac_bad, 'One per {:.1f} years'.format(1 / frac_bad),\n",
    "        verticalalignment='bottom', horizontalalignment='left', fontsize='large')\n",
    "\n",
    "plt.savefig('man_err_hist_delta_2.0.png')"
   ]
  },
  {
   "cell_type": "code",
   "execution_count": 48,
   "metadata": {
    "collapsed": false
   },
   "outputs": [],
   "source": [
    "def outlier_info(obsid, ccd_temp=-14.0):\n",
    "    i_obsid = np.where(g_guide_stats.groups.keys['obsid'] == obsid)\n",
    "    stars = g_guide_stats.groups[i_obsid]\n",
    "    print(stars)\n",
    "    d_rows=[-2, -1, 0, 1, 2]\n",
    "    d_cols=[-2, -1, 0, 1, 2]\n",
    "    dark_image = get_dark_image(ccd_temp)\n",
    "    theta_arcsecs, dys, dzs, dyags_list, dzags_list, bkg_imgs_list = starcat_theta_dy_dz(\n",
    "        stars, dark_image, d_rows=d_rows, d_cols=d_cols)\n",
    "    row_cols = list(product(d_rows, d_cols))\n",
    "    for i, theta_arcsec in enumerate(theta_arcsecs):\n",
    "        if abs(theta_arcsec) < 100:\n",
    "            continue\n",
    "        print('theta={}\\ndyags={}\\ndzags={}\\nrow_cols={}'\n",
    "              .format(theta_arcsec, dyags_list[i], dzags_list[i], row_cols[i]))\n",
    "        for bkg_imgs in bkg_imgs_list[i]:\n",
    "            with printoptions(formatter={'float_kind': lambda x: '{:10.1f}'.format(x)}):\n",
    "                for bkg_img in bkg_imgs:\n",
    "                    print(bkg_img)\n",
    "                print\n"
   ]
  }
 ],
 "metadata": {
  "kernelspec": {
   "display_name": "Python 2",
   "language": "python",
   "name": "python2"
  },
  "language_info": {
   "codemirror_mode": {
    "name": "ipython",
    "version": 2
   },
   "file_extension": ".py",
   "mimetype": "text/x-python",
   "name": "python",
   "nbconvert_exporter": "python",
   "pygments_lexer": "ipython2",
   "version": "2.7.9"
  }
 },
 "nbformat": 4,
 "nbformat_minor": 0
}
